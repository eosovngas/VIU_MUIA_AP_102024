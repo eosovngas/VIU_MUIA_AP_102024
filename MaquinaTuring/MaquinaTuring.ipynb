{
 "cells": [
  {
   "cell_type": "markdown",
   "id": "fa14b698-0264-4d36-a947-e2db41235b9e",
   "metadata": {},
   "source": [
    "# Maquina de turing"
   ]
  },
  {
   "cell_type": "code",
   "execution_count": 6,
   "id": "5f96ce7a-0299-425c-b0d3-aaac871373b5",
   "metadata": {},
   "outputs": [],
   "source": [
    "def turing(tape, rules, state):\n",
    "    head = 0\n",
    "    tape = list(tape) + ['_']  # Agregamos un espacio en blanco al final de la cinta\n",
    "    \n",
    "    while (state, tape[head]) in rules:\n",
    "        new_state, new_symbol, move = rules[(state, tape[head])]\n",
    "        \n",
    "        state = new_state\n",
    "        tape[head] = new_symbol\n",
    "        \n",
    "        if move == 'R':\n",
    "            head += 1\n",
    "            # Si estamos al final de la cinta, agregamos un espacio en blanco al final\n",
    "            if head == len(tape):\n",
    "                tape.append('_')\n",
    "        else:\n",
    "            head -= 1\n",
    "            # Si nos movemos a la izquierda y estamos en el primer elemento, extendemos la cinta\n",
    "            if head < 0:\n",
    "                tape.insert(0, '_')\n",
    "                head = 0  # Volver al primer índice de la cinta\n",
    "    \n",
    "    return ''.join(tape).strip('_')\n",
    "\n",
    "# Ejemplo: Invertir 0s y 1s\n",
    "rules = {\n",
    "    ('q0', '0'): ('q0', '1', 'R'),\n",
    "    ('q0', '1'): ('q0', '0', 'R'),\n",
    "    ('q0', '_'): ('qf', '_', 'R')  # Estado final\n",
    "}"
   ]
  },
  {
   "cell_type": "code",
   "execution_count": 16,
   "id": "0a1c3d1d-5883-4465-8bbb-1d3fa454a77f",
   "metadata": {},
   "outputs": [
    {
     "name": "stdout",
     "output_type": "stream",
     "text": [
      "0101\n"
     ]
    }
   ],
   "source": [
    "print(turing(\"1010\", rules, 'q0'))  # Salida: \"0101\""
   ]
  },
  {
   "cell_type": "code",
   "execution_count": 18,
   "id": "df427435-7d24-427c-853a-e28278cd4851",
   "metadata": {},
   "outputs": [
    {
     "name": "stdout",
     "output_type": "stream",
     "text": [
      "0000\n"
     ]
    }
   ],
   "source": [
    "print(turing(\"1111\", rules, 'q0'))"
   ]
  },
  {
   "cell_type": "code",
   "execution_count": 20,
   "id": "a355a45f-4a5c-4f6f-bfaf-69aea00398b6",
   "metadata": {},
   "outputs": [
    {
     "name": "stdout",
     "output_type": "stream",
     "text": [
      "1111\n"
     ]
    }
   ],
   "source": [
    "print(turing(\"0000\", rules, 'q0'))"
   ]
  },
  {
   "cell_type": "code",
   "execution_count": 22,
   "id": "bf7371e2-0e9e-44d6-9ce1-76f1a6460479",
   "metadata": {},
   "outputs": [
    {
     "name": "stdout",
     "output_type": "stream",
     "text": [
      "1100\n"
     ]
    }
   ],
   "source": [
    "print(turing(\"0011\", rules, 'q0'))"
   ]
  },
  {
   "cell_type": "code",
   "execution_count": 24,
   "id": "df3d77cb-7b2e-4536-a418-831e9d809f29",
   "metadata": {},
   "outputs": [
    {
     "name": "stdout",
     "output_type": "stream",
     "text": [
      "00001111\n"
     ]
    }
   ],
   "source": [
    "print(turing(\"11110000\", rules, 'q0'))"
   ]
  },
  {
   "cell_type": "code",
   "execution_count": 31,
   "id": "0e11a08d-9098-4c3d-ac7f-6cc4643c5e2e",
   "metadata": {},
   "outputs": [
    {
     "name": "stdout",
     "output_type": "stream",
     "text": [
      "00\n"
     ]
    }
   ],
   "source": [
    "print(turing(\"11\", rules, 'q0'))"
   ]
  },
  {
   "cell_type": "markdown",
   "id": "21de797c-fb83-417a-a8e4-9950bebd13bd",
   "metadata": {},
   "source": [
    "# Maquina de turing multiple estados\n",
    "\n",
    "Implementaremos una máquina de Turing que convierte una cadena binaria (0 y 1) en su complemento (invierte los bits) y luego se detiene en un nuevo estado final qf.\n",
    "\n",
    "Nueva lógica:\n",
    "* Comienza en el estado q0.\n",
    "* Si encuentra un 0, lo cambia a 1 y pasa al estado q1.\n",
    "* Si encuentra un 1, lo cambia a 0 y pasa al estado q1.\n",
    "* En el estado q1, simplemente se mueve a la derecha y regresa a q0.\n",
    "* Cuando encuentra un espacio en blanco (_), cambia al estado final qf y se detiene."
   ]
  },
  {
   "cell_type": "code",
   "execution_count": 33,
   "id": "23285780-077c-4f57-a3ff-b675ef334cc7",
   "metadata": {},
   "outputs": [],
   "source": [
    "def turing(tape, rules, state):\n",
    "    head = 0\n",
    "    tape = list(tape) + ['_']  # Agregamos un espacio en blanco al final\n",
    "    \n",
    "    while (state, tape[head]) in rules:\n",
    "        new_state, new_symbol, move = rules[(state, tape[head])]\n",
    "        \n",
    "        state = new_state\n",
    "        tape[head] = new_symbol\n",
    "        \n",
    "        if move == 'R':\n",
    "            head += 1\n",
    "            if head == len(tape):  # Si el head está fuera de la cinta, extendemos la cinta\n",
    "                tape.append('_')\n",
    "        else:\n",
    "            head -= 1\n",
    "            if head < 0:  # Si el head va a una posición negativa, extendemos la cinta a la izquierda\n",
    "                tape.insert(0, '_')\n",
    "                head = 0\n",
    "\n",
    "    return ''.join(tape).strip('_')\n",
    "\n",
    "#**Reglas con múltiples estados**\n",
    "rules = {\n",
    "    ('q0', '0'): ('q1', '1', 'R'),  # Convierte 0 en 1 y cambia al estado q1\n",
    "    ('q0', '1'): ('q1', '0', 'R'),  # Convierte 1 en 0 y cambia al estado q1\n",
    "    \n",
    "    ('q1', '0'): ('q0', '1', 'R'),  # Convierte 0 en 1 y regresa a q0\n",
    "    ('q1', '1'): ('q0', '0', 'R'),  # Convierte 1 en 0 y regresa a q0\n",
    "    \n",
    "    ('q0', '_'): ('qf', '_', 'R')  # Estado final cuando encuentra un espacio en blanco\n",
    "}"
   ]
  },
  {
   "cell_type": "code",
   "execution_count": 35,
   "id": "b6c25838-5765-4785-97ea-91ad4da37b74",
   "metadata": {},
   "outputs": [
    {
     "name": "stdout",
     "output_type": "stream",
     "text": [
      "0101\n"
     ]
    }
   ],
   "source": [
    "print(turing(\"1010\", rules, 'q0'))  # Salida esperada: \"0101\""
   ]
  },
  {
   "cell_type": "markdown",
   "id": "d2a270a8-0c71-43ad-b6db-372a1553a848",
   "metadata": {},
   "source": [
    "# Comparativa de ambos códigos single estado vs multiple estados\n",
    "\n",
    "| Característica                 | Código Original (1 Estado) | Código Mejorado (Múltiples Estados) |\n",
    "|--------------------------------|----------------------------|--------------------------------------|\n",
    "| **Número de estados**          | 1 (`q0` con `qf` final)   | 2 (`q0`, `q1` y `qf` final)        |\n",
    "| **Funcionamiento**             | Invierte los bits y termina inmediatamente. | Alterna entre `q0` y `q1` para realizar cambios graduales. |\n",
    "| **Manejo del head**            | No maneja correctamente la expansión de la cinta. | Extiende la cinta dinámicamente si es necesario. |\n",
    "| **Capacidad de expansión**     | Limitado a inversiones simples. | Permite agregar más reglas y comportamientos. |\n",
    "| **Finalización**               | Se detiene al encontrar un `_`. | Se detiene correctamente cuando la cinta se procesa por completo. |\n",
    "| **Robustez**                   | Puede generar errores si la cinta es corta. | Se ajusta dinámicamente a la longitud de la cinta. |\n",
    "| **Legibilidad y escalabilidad** | Más simple pero menos flexible. | Más modular y fácil de extender con más reglas. |\n",
    "\n",
    "## ¿Cuál es mejor y cuándo usarlo?\n",
    "### Single estado \n",
    "- Solo necesitas una inversión rápida de `0s` y `1s` sin más lógica.\n",
    "- No necesitas expandir la funcionalidad con más reglas o estados.\n",
    "- Prefieres un código más corto y directo.\n",
    "\n",
    "### Multiple estados\n",
    "- Quieres manejar mejor el movimiento del `head` en la cinta.  \n",
    "- Necesitas más estados para realizar operaciones más complejas.  \n",
    "- Quieres una implementación escalable que puedas modificar fácilmente.  \n",
    "\n",
    "\n",
    "**Conclusion:** El segundo código es más robusto y fácil de adaptar a otras operaciones, pero el primero es más simple y directo si solo buscas una operación mínima."
   ]
  },
  {
   "cell_type": "code",
   "execution_count": null,
   "id": "76e329c3-b889-4363-90f8-42d73c12e96e",
   "metadata": {},
   "outputs": [],
   "source": []
  }
 ],
 "metadata": {
  "kernelspec": {
   "display_name": "Python 3 (ipykernel)",
   "language": "python",
   "name": "python3"
  },
  "language_info": {
   "codemirror_mode": {
    "name": "ipython",
    "version": 3
   },
   "file_extension": ".py",
   "mimetype": "text/x-python",
   "name": "python",
   "nbconvert_exporter": "python",
   "pygments_lexer": "ipython3",
   "version": "3.9.20"
  }
 },
 "nbformat": 4,
 "nbformat_minor": 5
}
