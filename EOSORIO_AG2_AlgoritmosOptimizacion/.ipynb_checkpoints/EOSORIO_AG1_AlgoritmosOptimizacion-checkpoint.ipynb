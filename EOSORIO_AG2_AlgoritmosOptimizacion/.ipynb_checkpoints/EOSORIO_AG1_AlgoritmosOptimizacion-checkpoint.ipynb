{
 "cells": [
  {
   "cell_type": "markdown",
   "id": "8c19ad53-a4d4-40ab-bc2f-8927d302d2d8",
   "metadata": {},
   "source": [
    "<img src=\"img/viu_logo.png\" width=\"200\">\n",
    "\n",
    "<h1><font color=\"#113D68\" size=6>UNIVERSIDAD INTERNACIONAL DE VALENCIA</font></h1>\n",
    "\n",
    "<h1><font color=\"#113D68\" size=5>Magister Inteligencia Artificial</font></h1>\n",
    "\n",
    "<h2><font color=\"#113D68\" size=4>Trabajo - AG1- Actividad Guiada 1</font></h2>\n",
    "\n",
    "<h2><font color=\"#113D68\" size=3>Docente - Raúl Reyero Díez</font></h2>\n",
    "\n",
    "<h2><font color=\"#113D68\" size=3>Cátedra - 03MIAR_10_A_2024-25_Algoritmos de Optimización</font></h2>\n",
    "\n",
    "<br><br>\n",
    "\n",
    "<div style=\"text-align: right\">\n",
    "    <font color=\"#113D68\" size=4>Alumno: Eduardo Osorio Venegas</font><br>\n",
    "</div>\n",
    "\n",
    "<div style=\"text-align: right\">\n",
    "    <font color=\"#113D68\" size=4>github: Eduardo Osorio Venegas</font><br>\n",
    "</div>\n",
    "<div style=\"text-align: right\">\n",
    "    <font color=\"#113D68\" size=4>colab: Eduardo Osorio Venegas</font><br>\n",
    "</div>"
   ]
  },
  {
   "cell_type": "markdown",
   "id": "ecd28454-ab57-41d1-bfa0-4d5f4bf3c991",
   "metadata": {},
   "source": [
    "# Detalle actividad guiada 1"
   ]
  },
  {
   "cell_type": "markdown",
   "id": "54e90fcf-915b-4303-ad99-e1f575f3a179",
   "metadata": {},
   "source": [
    "<img src=\"img/AG1 – Actividad Guiada 1.png\" width=\"700\">\n",
    "<img src=\"img/AG1 – Actividad Guiada 2.png\" width=\"700\">"
   ]
  },
  {
   "cell_type": "code",
   "execution_count": 15,
   "id": "c2e5599d-3b82-4191-b22f-3599828c44a2",
   "metadata": {},
   "outputs": [],
   "source": [
    "import time\n",
    "from itertools import product"
   ]
  },
  {
   "cell_type": "code",
   "execution_count": 16,
   "id": "971a18a5-20cb-4967-9df0-21fe1f741940",
   "metadata": {},
   "outputs": [],
   "source": [
    "# Decorador para medir el tiempo de ejecución\n",
    "def medir_tiempo(func):\n",
    "    def wrapper(*args, **kwargs):\n",
    "        inicio = time.perf_counter()\n",
    "        resultado = func(*args, **kwargs)\n",
    "        fin = time.perf_counter()\n",
    "        print(f\"Tiempo de ejecución de '{func.__name__}': {fin - inicio:.6f} segundos\")\n",
    "        return resultado\n",
    "    return wrapper"
   ]
  },
  {
   "cell_type": "markdown",
   "id": "fb497301-51c5-424c-84db-f98e916709c6",
   "metadata": {},
   "source": [
    "# Interpretación del gráfico\n",
    "\n",
    "Demanda mínima por cada tramo:\n",
    "\n",
    "* 0:00 - 4:00 → 4 autobuses.\n",
    "* 4:00 - 8:00 → 8 autobuses.\n",
    "* 8:00 - 12:00 → 10 autobuses.\n",
    "* 12:00 - 16:00 → 7 autobuses.\n",
    "* 16:00 - 20:00 → 12 autobuses.\n",
    "* 20:00 - 24:00 → 4 autobuses.\n",
    "\n",
    "Restricción clave: Cada autobús puede trabajar máximo 8 horas seguidas, lo que implica que solo puede cubrir dos tramos consecutivos.\n",
    "\n",
    "Consideraciones adicionales: Al final de las 24 horas, el horario es cíclico, es decir, los autobuses que trabajan en las últimas horas (20:00 - 24:00) podrían ser reutilizados en las primeras horas (0:00 - 4:00) del día siguiente."
   ]
  },
  {
   "cell_type": "code",
   "execution_count": 17,
   "id": "0f1a0bf8-858c-4339-97fd-3765696f9aba",
   "metadata": {},
   "outputs": [],
   "source": [
    "# Datos iniciales (tomados del gráfico)\n",
    "demanda = [4, 8, 10, 7, 12, 4]  # Demanda por tramo de 4 horas\n",
    "tramos = len(demanda)           # Número de tramos (6)"
   ]
  },
  {
   "cell_type": "markdown",
   "id": "7dea4c63-5d57-4194-88e2-90745d0bc33a",
   "metadata": {},
   "source": [
    "# Implementación fuerza bruta"
   ]
  },
  {
   "cell_type": "code",
   "execution_count": 18,
   "id": "bf13db5d-4536-4d63-9e2e-b361fc0ed3fc",
   "metadata": {},
   "outputs": [],
   "source": [
    "# Fuerza bruta\n",
    "@medir_tiempo\n",
    "def fuerza_bruta(demanda, tramos, rango_autobuses):\n",
    "    def cumple_restricciones(x, demanda):\n",
    "        for t in range(tramos):\n",
    "            cobertura_actual = x[t] + x[t - 1]  # Cobertura actual considerando el ciclo\n",
    "            if cobertura_actual < demanda[t]:\n",
    "                return False  # Si no se cumple una restricción, la solución no es válida\n",
    "        return True\n",
    "\n",
    "    def funcion_objetivo(x):\n",
    "        return sum(x)\n",
    "\n",
    "    todas_las_combinaciones = product(rango_autobuses, repeat=tramos)\n",
    "\n",
    "    mejor_solucion = None\n",
    "    mejor_valor_objetivo = float('inf')\n",
    "\n",
    "    for x in todas_las_combinaciones:\n",
    "        if cumple_restricciones(x, demanda):\n",
    "            valor_objetivo = funcion_objetivo(x)\n",
    "            if valor_objetivo < mejor_valor_objetivo:\n",
    "                mejor_valor_objetivo = valor_objetivo\n",
    "                mejor_solucion = x\n",
    "\n",
    "    return mejor_solucion, mejor_valor_objetivo"
   ]
  },
  {
   "cell_type": "code",
   "execution_count": 19,
   "id": "420e8993-ce10-4dfd-a5c5-ec03ad48c338",
   "metadata": {},
   "outputs": [
    {
     "name": "stdout",
     "output_type": "stream",
     "text": [
      "Tiempo de ejecución de 'fuerza_bruta': 2.030920 segundos\n",
      "Mejor solución (asignación de autobuses): (0, 8, 2, 5, 7, 4)\n",
      "Número mínimo de autobuses necesarios: 26\n"
     ]
    }
   ],
   "source": [
    "# Ejecutamos la función de fuerza bruta\n",
    "rango_autobuses = range(0, max(demanda) + 1)\n",
    "mejor_solucion, mejor_valor_objetivo = fuerza_bruta(demanda, tramos, rango_autobuses)\n",
    "print(f\"Mejor solución (asignación de autobuses): {mejor_solucion}\")\n",
    "print(f\"Número mínimo de autobuses necesarios: {mejor_valor_objetivo}\")"
   ]
  },
  {
   "cell_type": "markdown",
   "id": "60a2f180-dc61-4be0-a7a8-f6b2b8ef8185",
   "metadata": {},
   "source": [
    "# Conclusion\n",
    "\n",
    "# Validación de restricciones y combinación válida\n",
    "\n",
    "## 1. Combinación válida con el mínimo total\n",
    "\\[\n",
    "\\begin{array}{|c|c|}\n",
    "\\hline\n",
    "\\textbf{Tramo} & \\textbf{Autobuses asignados (\\(x[t]\\))} \\\\ \\hline\n",
    "1 & 4 \\\\ \\hline\n",
    "2 & 4 \\\\ \\hline\n",
    "3 & 6 \\\\ \\hline\n",
    "4 & 7 \\\\ \\hline\n",
    "5 & 5 \\\\ \\hline\n",
    "6 & 0 \\\\ \\hline\n",
    "\\textbf{Total} & \\textbf{26} \\\\ \\hline\n",
    "\\end{array}\n",
    "\\]\n",
    "\n",
    "## 2. Validación de las restricciones\n",
    "\\[\n",
    "\\begin{array}{|c|c|c|c|c|c|}\n",
    "\\hline\n",
    "\\textbf{Tramo} & x[t] & x[t-1] & \\textbf{Cobertura actual (\\(x[t] + x[t-1]\\))} & \\textbf{Demanda (\\(d[t]\\))} & \\textbf{¿Cumple?} \\\\ \\hline\n",
    "1 & 4 & 0 & 4 + 0 = 4 & 4 & \\checkmark \\\\ \\hline\n",
    "2 & 4 & 4 & 4 + 4 = 8 & 8 & \\checkmark \\\\ \\hline\n",
    "3 & 6 & 4 & 6 + 4 = 10 & 10 & \\checkmark \\\\ \\hline\n",
    "4 & 7 & 6 & 7 + 6 = 13 & 7 & \\checkmark \\\\ \\hline\n",
    "5 & 5 & 7 & 5 + 7 = 12 & 12 & \\checkmark \\\\ \\hline\n",
    "6 & 0 & 5 & 0 + 5 = 5 & 4 & \\checkmark \\\\ \\hline\n",
    "\\end{array}\n",
    "\\]\n",
    "\n",
    "## 3. Conclusión\n",
    "- Todas las restricciones se cumplen para esta combinación: \\([4, 4, 6, 7, 5, 0]\\).\n",
    "- La solución garantiza el mínimo número total de autobuses: **26**.\n"
   ]
  },
  {
   "cell_type": "markdown",
   "id": "15cf1bb6-d77f-48f7-aa08-7c44fc96cbf5",
   "metadata": {},
   "source": [
    "# Estrategia de Fuerza Bruta\n",
    "\n",
    "Descripción:\n",
    "* La solución por fuerza bruta genera todas las combinaciones posibles de 𝑥 =[𝑥0,𝑥1,…,𝑥5] dentro de un rango predeterminado rango_autobuses = range(0, max(demanda) + 1).\n",
    "\n",
    "* Evalúa cada combinación para verificar si cumple con las restricciones.\n",
    "* Busca la combinación que minimice el número total de autobuses.\n",
    "\n",
    "# Complejidad Computacional:\n",
    "\n",
    "* Espacio de búsqueda: Si hay 𝑛 tramos y 𝑘 valores posibles para cada xt, el número total de combinaciones es 𝑘^n.\n",
    "* Complejidad temporal: 𝑂(𝑘^n), ya que cada combinación se verifica con las restricciones.\n",
    "* Problemas: Esta solución es ineficiente para un número elevado de tramos (n) o un rango amplio (k)."
   ]
  },
  {
   "cell_type": "code",
   "execution_count": null,
   "id": "0ba1afcd-072d-4a1a-a4c1-274420313add",
   "metadata": {},
   "outputs": [],
   "source": []
  }
 ],
 "metadata": {
  "kernelspec": {
   "display_name": "Python 3 (ipykernel)",
   "language": "python",
   "name": "python3"
  },
  "language_info": {
   "codemirror_mode": {
    "name": "ipython",
    "version": 3
   },
   "file_extension": ".py",
   "mimetype": "text/x-python",
   "name": "python",
   "nbconvert_exporter": "python",
   "pygments_lexer": "ipython3",
   "version": "3.12.7"
  }
 },
 "nbformat": 4,
 "nbformat_minor": 5
}
